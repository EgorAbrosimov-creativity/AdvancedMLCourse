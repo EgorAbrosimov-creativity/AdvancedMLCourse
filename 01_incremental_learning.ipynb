{
 "cells": [
  {
   "cell_type": "markdown",
   "id": "5d5b36c2",
   "metadata": {},
   "source": [
    "# Imports"
   ]
  },
  {
   "cell_type": "markdown",
   "id": "4e5c2c90",
   "metadata": {},
   "source": [
    "Tutorial https://riverml.xyz/0.14.0/examples/bike-sharing-forecasting/ \n",
    "\n",
    "SEA https://riverml.xyz/0.14.0/api/datasets/synth/SEA/\n",
    "\n",
    "Classifiers are there"
   ]
  },
  {
   "cell_type": "code",
   "execution_count": 16,
   "id": "fe807980",
   "metadata": {},
   "outputs": [],
   "source": [
    "import pandas as pd\n",
    "from river.datasets import synth\n",
    "\n",
    "from river import compose\n",
    "from river import metrics\n",
    "from river import utils\n",
    "from river import linear_model, naive_bayes, tree\n",
    "from river import preprocessing"
   ]
  },
  {
   "cell_type": "markdown",
   "id": "1ae21f69",
   "metadata": {},
   "source": [
    "# Create flow"
   ]
  },
  {
   "cell_type": "code",
   "execution_count": 8,
   "id": "d63c91c8",
   "metadata": {},
   "outputs": [],
   "source": [
    "class DriftingFlow:\n",
    "\n",
    "    def __init__(self, noise, seed, variant_1=0, variant_2=1, switch_after=10000, iters=40000):\n",
    "        self.generator_1 = synth.SEA(noise=noise, variant=variant_1, seed=seed)\n",
    "        self.generator_2 = synth.SEA(noise=noise, variant=variant_2, seed=seed)\n",
    "        self.switch_after = switch_after\n",
    "        self.counter = 0\n",
    "        self.data = list(self.generator_1.take(switch_after)) + list(self.generator_2.take(iters-switch_after))\n",
    "    \n",
    "    def take(self):\n",
    "        '''Returns (x, y) pair of dataset. x - dict, y - bool'''\n",
    "        self.counter += 1\n",
    "        return self.data[self.counter]"
   ]
  },
  {
   "cell_type": "code",
   "execution_count": 9,
   "id": "b2b0276c",
   "metadata": {},
   "outputs": [],
   "source": [
    "def evaluate_model(model, data_generator, iterations=30000, print_every=1000):\n",
    "    y_trues, y_predicts = [], []\n",
    "    metr = [\n",
    "        utils.Rolling(metrics.Accuracy(), 1000)\n",
    "        , utils.Rolling(metrics.ConfusionMatrix(), 1000)\n",
    "    ]\n",
    "    \n",
    "    \n",
    "    for i in range(iterations):\n",
    "        x, y = data_generator.take()\n",
    "        y_pred = model.predict_one(x)\n",
    "        model.learn_one(x, y)\n",
    "        #display(x, y)\n",
    "        \n",
    "        metr[0].update(y, y_pred)\n",
    "        metr[1].update(y, y_pred)\n",
    "        \n",
    "        if (i-1) % print_every == 0:\n",
    "            print('='*20)\n",
    "            print(f'Iteration {i}')\n",
    "            print(f'Accuracy: {metr[0].get()}')\n",
    "            print(f'Confusion matrix\\n')\n",
    "            display(metr[1])\n",
    "        \n",
    "        y_trues.append(y)\n",
    "        y_predicts.append(y_pred)\n",
    "        \n",
    "    return y_trues, y_predicts"
   ]
  },
  {
   "cell_type": "markdown",
   "id": "deb6f397",
   "metadata": {},
   "source": [
    "# Evaluate"
   ]
  },
  {
   "cell_type": "markdown",
   "id": "4a3ae2ff",
   "metadata": {},
   "source": [
    "## NaiveBayes"
   ]
  },
  {
   "cell_type": "code",
   "execution_count": 13,
   "id": "b4af3125",
   "metadata": {},
   "outputs": [],
   "source": [
    "data = DriftingFlow(1.5e4, 200)"
   ]
  },
  {
   "cell_type": "code",
   "execution_count": 14,
   "id": "0915e8b6",
   "metadata": {},
   "outputs": [],
   "source": [
    "model = compose.Pipeline(\n",
    "    #('scale', preprocessing.StandardScaler()),\n",
    "    ('lin_reg', naive_bayes.MultinomialNB())\n",
    ")"
   ]
  },
  {
   "cell_type": "code",
   "execution_count": 15,
   "id": "e8ad5157",
   "metadata": {},
   "outputs": [
    {
     "name": "stdout",
     "output_type": "stream",
     "text": [
      "====================\n",
      "Iteration 1\n",
      "Accuracy: 0.0\n",
      "Confusion matrix\n",
      "\n"
     ]
    },
    {
     "ename": "TypeError",
     "evalue": "'<' not supported between instances of 'NoneType' and 'bool'",
     "output_type": "error",
     "traceback": [
      "\u001b[0;31m---------------------------------------------------------------------------\u001b[0m",
      "\u001b[0;31mTypeError\u001b[0m                                 Traceback (most recent call last)",
      "File \u001b[0;32m~/opt/anaconda3/envs/advanced_ml/lib/python3.10/site-packages/IPython/core/formatters.py:706\u001b[0m, in \u001b[0;36mPlainTextFormatter.__call__\u001b[0;34m(self, obj)\u001b[0m\n\u001b[1;32m    699\u001b[0m stream \u001b[38;5;241m=\u001b[39m StringIO()\n\u001b[1;32m    700\u001b[0m printer \u001b[38;5;241m=\u001b[39m pretty\u001b[38;5;241m.\u001b[39mRepresentationPrinter(stream, \u001b[38;5;28mself\u001b[39m\u001b[38;5;241m.\u001b[39mverbose,\n\u001b[1;32m    701\u001b[0m     \u001b[38;5;28mself\u001b[39m\u001b[38;5;241m.\u001b[39mmax_width, \u001b[38;5;28mself\u001b[39m\u001b[38;5;241m.\u001b[39mnewline,\n\u001b[1;32m    702\u001b[0m     max_seq_length\u001b[38;5;241m=\u001b[39m\u001b[38;5;28mself\u001b[39m\u001b[38;5;241m.\u001b[39mmax_seq_length,\n\u001b[1;32m    703\u001b[0m     singleton_pprinters\u001b[38;5;241m=\u001b[39m\u001b[38;5;28mself\u001b[39m\u001b[38;5;241m.\u001b[39msingleton_printers,\n\u001b[1;32m    704\u001b[0m     type_pprinters\u001b[38;5;241m=\u001b[39m\u001b[38;5;28mself\u001b[39m\u001b[38;5;241m.\u001b[39mtype_printers,\n\u001b[1;32m    705\u001b[0m     deferred_pprinters\u001b[38;5;241m=\u001b[39m\u001b[38;5;28mself\u001b[39m\u001b[38;5;241m.\u001b[39mdeferred_printers)\n\u001b[0;32m--> 706\u001b[0m \u001b[43mprinter\u001b[49m\u001b[38;5;241;43m.\u001b[39;49m\u001b[43mpretty\u001b[49m\u001b[43m(\u001b[49m\u001b[43mobj\u001b[49m\u001b[43m)\u001b[49m\n\u001b[1;32m    707\u001b[0m printer\u001b[38;5;241m.\u001b[39mflush()\n\u001b[1;32m    708\u001b[0m \u001b[38;5;28;01mreturn\u001b[39;00m stream\u001b[38;5;241m.\u001b[39mgetvalue()\n",
      "File \u001b[0;32m~/opt/anaconda3/envs/advanced_ml/lib/python3.10/site-packages/IPython/lib/pretty.py:410\u001b[0m, in \u001b[0;36mRepresentationPrinter.pretty\u001b[0;34m(self, obj)\u001b[0m\n\u001b[1;32m    407\u001b[0m                         \u001b[38;5;28;01mreturn\u001b[39;00m meth(obj, \u001b[38;5;28mself\u001b[39m, cycle)\n\u001b[1;32m    408\u001b[0m                 \u001b[38;5;28;01mif\u001b[39;00m \u001b[38;5;28mcls\u001b[39m \u001b[38;5;129;01mis\u001b[39;00m \u001b[38;5;129;01mnot\u001b[39;00m \u001b[38;5;28mobject\u001b[39m \\\n\u001b[1;32m    409\u001b[0m                         \u001b[38;5;129;01mand\u001b[39;00m callable(\u001b[38;5;28mcls\u001b[39m\u001b[38;5;241m.\u001b[39m\u001b[38;5;18m__dict__\u001b[39m\u001b[38;5;241m.\u001b[39mget(\u001b[38;5;124m'\u001b[39m\u001b[38;5;124m__repr__\u001b[39m\u001b[38;5;124m'\u001b[39m)):\n\u001b[0;32m--> 410\u001b[0m                     \u001b[38;5;28;01mreturn\u001b[39;00m \u001b[43m_repr_pprint\u001b[49m\u001b[43m(\u001b[49m\u001b[43mobj\u001b[49m\u001b[43m,\u001b[49m\u001b[43m \u001b[49m\u001b[38;5;28;43mself\u001b[39;49m\u001b[43m,\u001b[49m\u001b[43m \u001b[49m\u001b[43mcycle\u001b[49m\u001b[43m)\u001b[49m\n\u001b[1;32m    412\u001b[0m     \u001b[38;5;28;01mreturn\u001b[39;00m _default_pprint(obj, \u001b[38;5;28mself\u001b[39m, cycle)\n\u001b[1;32m    413\u001b[0m \u001b[38;5;28;01mfinally\u001b[39;00m:\n",
      "File \u001b[0;32m~/opt/anaconda3/envs/advanced_ml/lib/python3.10/site-packages/IPython/lib/pretty.py:778\u001b[0m, in \u001b[0;36m_repr_pprint\u001b[0;34m(obj, p, cycle)\u001b[0m\n\u001b[1;32m    776\u001b[0m \u001b[38;5;124;03m\"\"\"A pprint that just redirects to the normal repr function.\"\"\"\u001b[39;00m\n\u001b[1;32m    777\u001b[0m \u001b[38;5;66;03m# Find newlines and replace them with p.break_()\u001b[39;00m\n\u001b[0;32m--> 778\u001b[0m output \u001b[38;5;241m=\u001b[39m \u001b[38;5;28;43mrepr\u001b[39;49m\u001b[43m(\u001b[49m\u001b[43mobj\u001b[49m\u001b[43m)\u001b[49m\n\u001b[1;32m    779\u001b[0m lines \u001b[38;5;241m=\u001b[39m output\u001b[38;5;241m.\u001b[39msplitlines()\n\u001b[1;32m    780\u001b[0m \u001b[38;5;28;01mwith\u001b[39;00m p\u001b[38;5;241m.\u001b[39mgroup():\n",
      "File \u001b[0;32m~/opt/anaconda3/envs/advanced_ml/lib/python3.10/site-packages/river/utils/rolling.py:34\u001b[0m, in \u001b[0;36mBaseRolling.__repr__\u001b[0;34m(self)\u001b[0m\n\u001b[1;32m     33\u001b[0m \u001b[38;5;28;01mdef\u001b[39;00m \u001b[38;5;21m__repr__\u001b[39m(\u001b[38;5;28mself\u001b[39m):\n\u001b[0;32m---> 34\u001b[0m     \u001b[38;5;28;01mreturn\u001b[39;00m \u001b[38;5;28;43mrepr\u001b[39;49m\u001b[43m(\u001b[49m\u001b[38;5;28;43mself\u001b[39;49m\u001b[38;5;241;43m.\u001b[39;49m\u001b[43mobj\u001b[49m\u001b[43m)\u001b[49m\n",
      "File \u001b[0;32m~/opt/anaconda3/envs/advanced_ml/lib/python3.10/site-packages/river/metrics/confusion.py:88\u001b[0m, in \u001b[0;36mConfusionMatrix.__repr__\u001b[0;34m(self)\u001b[0m\n\u001b[1;32m     86\u001b[0m \u001b[38;5;28;01mdef\u001b[39;00m \u001b[38;5;21m__repr__\u001b[39m(\u001b[38;5;28mself\u001b[39m):\n\u001b[0;32m---> 88\u001b[0m     classes \u001b[38;5;241m=\u001b[39m \u001b[38;5;28;43msorted\u001b[39;49m\u001b[43m(\u001b[49m\u001b[38;5;28;43mself\u001b[39;49m\u001b[38;5;241;43m.\u001b[39;49m\u001b[43mclasses\u001b[49m\u001b[43m)\u001b[49m\n\u001b[1;32m     89\u001b[0m     \u001b[38;5;28;01mif\u001b[39;00m \u001b[38;5;129;01mnot\u001b[39;00m classes:\n\u001b[1;32m     90\u001b[0m         \u001b[38;5;28;01mreturn\u001b[39;00m \u001b[38;5;124m\"\u001b[39m\u001b[38;5;124m\"\u001b[39m\n",
      "\u001b[0;31mTypeError\u001b[0m: '<' not supported between instances of 'NoneType' and 'bool'"
     ]
    },
    {
     "name": "stdout",
     "output_type": "stream",
     "text": [
      "====================\n",
      "Iteration 1001\n",
      "Accuracy: 0.746\n",
      "Confusion matrix\n",
      "\n"
     ]
    },
    {
     "data": {
      "text/plain": [
       "        False   True  \n",
       "False     581     95  \n",
       " True     159    165  "
      ]
     },
     "metadata": {},
     "output_type": "display_data"
    },
    {
     "name": "stdout",
     "output_type": "stream",
     "text": [
      "====================\n",
      "Iteration 2001\n",
      "Accuracy: 0.767\n",
      "Confusion matrix\n",
      "\n"
     ]
    },
    {
     "data": {
      "text/plain": [
       "        False   True  \n",
       "False     615     84  \n",
       " True     149    152  "
      ]
     },
     "metadata": {},
     "output_type": "display_data"
    },
    {
     "name": "stdout",
     "output_type": "stream",
     "text": [
      "====================\n",
      "Iteration 3001\n",
      "Accuracy: 0.766\n",
      "Confusion matrix\n",
      "\n"
     ]
    },
    {
     "data": {
      "text/plain": [
       "        False   True  \n",
       "False     615     77  \n",
       " True     157    151  "
      ]
     },
     "metadata": {},
     "output_type": "display_data"
    },
    {
     "name": "stdout",
     "output_type": "stream",
     "text": [
      "====================\n",
      "Iteration 4001\n",
      "Accuracy: 0.772\n",
      "Confusion matrix\n",
      "\n"
     ]
    },
    {
     "data": {
      "text/plain": [
       "        False   True  \n",
       "False     617     79  \n",
       " True     149    155  "
      ]
     },
     "metadata": {},
     "output_type": "display_data"
    },
    {
     "name": "stdout",
     "output_type": "stream",
     "text": [
      "====================\n",
      "Iteration 5001\n",
      "Accuracy: 0.757\n",
      "Confusion matrix\n",
      "\n"
     ]
    },
    {
     "data": {
      "text/plain": [
       "        False   True  \n",
       "False     606     85  \n",
       " True     158    151  "
      ]
     },
     "metadata": {},
     "output_type": "display_data"
    },
    {
     "name": "stdout",
     "output_type": "stream",
     "text": [
      "====================\n",
      "Iteration 6001\n",
      "Accuracy: 0.787\n",
      "Confusion matrix\n",
      "\n"
     ]
    },
    {
     "data": {
      "text/plain": [
       "        False   True  \n",
       "False     646     65  \n",
       " True     148    141  "
      ]
     },
     "metadata": {},
     "output_type": "display_data"
    },
    {
     "name": "stdout",
     "output_type": "stream",
     "text": [
      "====================\n",
      "Iteration 7001\n",
      "Accuracy: 0.759\n",
      "Confusion matrix\n",
      "\n"
     ]
    },
    {
     "data": {
      "text/plain": [
       "        False   True  \n",
       "False     595     86  \n",
       " True     155    164  "
      ]
     },
     "metadata": {},
     "output_type": "display_data"
    },
    {
     "name": "stdout",
     "output_type": "stream",
     "text": [
      "====================\n",
      "Iteration 8001\n",
      "Accuracy: 0.771\n",
      "Confusion matrix\n",
      "\n"
     ]
    },
    {
     "data": {
      "text/plain": [
       "        False   True  \n",
       "False     594     65  \n",
       " True     164    177  "
      ]
     },
     "metadata": {},
     "output_type": "display_data"
    },
    {
     "name": "stdout",
     "output_type": "stream",
     "text": [
      "====================\n",
      "Iteration 9001\n",
      "Accuracy: 0.745\n",
      "Confusion matrix\n",
      "\n"
     ]
    },
    {
     "data": {
      "text/plain": [
       "        False   True  \n",
       "False     568     98  \n",
       " True     157    177  "
      ]
     },
     "metadata": {},
     "output_type": "display_data"
    },
    {
     "name": "stdout",
     "output_type": "stream",
     "text": [
      "====================\n",
      "Iteration 10001\n",
      "Accuracy: 0.768\n",
      "Confusion matrix\n",
      "\n"
     ]
    },
    {
     "data": {
      "text/plain": [
       "        False   True  \n",
       "False     606     81  \n",
       " True     151    162  "
      ]
     },
     "metadata": {},
     "output_type": "display_data"
    },
    {
     "name": "stdout",
     "output_type": "stream",
     "text": [
      "====================\n",
      "Iteration 11001\n",
      "Accuracy: 0.713\n",
      "Confusion matrix\n",
      "\n"
     ]
    },
    {
     "data": {
      "text/plain": [
       "        False   True  \n",
       "False     520     64  \n",
       " True     223    193  "
      ]
     },
     "metadata": {},
     "output_type": "display_data"
    },
    {
     "name": "stdout",
     "output_type": "stream",
     "text": [
      "====================\n",
      "Iteration 12001\n",
      "Accuracy: 0.711\n",
      "Confusion matrix\n",
      "\n"
     ]
    },
    {
     "data": {
      "text/plain": [
       "        False   True  \n",
       "False     522     75  \n",
       " True     214    189  "
      ]
     },
     "metadata": {},
     "output_type": "display_data"
    },
    {
     "name": "stdout",
     "output_type": "stream",
     "text": [
      "====================\n",
      "Iteration 13001\n",
      "Accuracy: 0.725\n",
      "Confusion matrix\n",
      "\n"
     ]
    },
    {
     "data": {
      "text/plain": [
       "        False   True  \n",
       "False     532     66  \n",
       " True     209    193  "
      ]
     },
     "metadata": {},
     "output_type": "display_data"
    },
    {
     "name": "stdout",
     "output_type": "stream",
     "text": [
      "====================\n",
      "Iteration 14001\n",
      "Accuracy: 0.733\n",
      "Confusion matrix\n",
      "\n"
     ]
    },
    {
     "data": {
      "text/plain": [
       "        False   True  \n",
       "False     538     70  \n",
       " True     197    195  "
      ]
     },
     "metadata": {},
     "output_type": "display_data"
    },
    {
     "name": "stdout",
     "output_type": "stream",
     "text": [
      "====================\n",
      "Iteration 15001\n",
      "Accuracy: 0.721\n",
      "Confusion matrix\n",
      "\n"
     ]
    },
    {
     "data": {
      "text/plain": [
       "        False   True  \n",
       "False     528     76  \n",
       " True     203    193  "
      ]
     },
     "metadata": {},
     "output_type": "display_data"
    },
    {
     "name": "stdout",
     "output_type": "stream",
     "text": [
      "====================\n",
      "Iteration 16001\n",
      "Accuracy: 0.746\n",
      "Confusion matrix\n",
      "\n"
     ]
    },
    {
     "data": {
      "text/plain": [
       "        False   True  \n",
       "False     563     64  \n",
       " True     190    183  "
      ]
     },
     "metadata": {},
     "output_type": "display_data"
    },
    {
     "name": "stdout",
     "output_type": "stream",
     "text": [
      "====================\n",
      "Iteration 17001\n",
      "Accuracy: 0.735\n",
      "Confusion matrix\n",
      "\n"
     ]
    },
    {
     "data": {
      "text/plain": [
       "        False   True  \n",
       "False     522     81  \n",
       " True     184    213  "
      ]
     },
     "metadata": {},
     "output_type": "display_data"
    },
    {
     "name": "stdout",
     "output_type": "stream",
     "text": [
      "====================\n",
      "Iteration 18001\n",
      "Accuracy: 0.705\n",
      "Confusion matrix\n",
      "\n"
     ]
    },
    {
     "data": {
      "text/plain": [
       "        False   True  \n",
       "False     490     70  \n",
       " True     225    215  "
      ]
     },
     "metadata": {},
     "output_type": "display_data"
    },
    {
     "name": "stdout",
     "output_type": "stream",
     "text": [
      "====================\n",
      "Iteration 19001\n",
      "Accuracy: 0.719\n",
      "Confusion matrix\n",
      "\n"
     ]
    },
    {
     "data": {
      "text/plain": [
       "        False   True  \n",
       "False     496     93  \n",
       " True     188    223  "
      ]
     },
     "metadata": {},
     "output_type": "display_data"
    },
    {
     "name": "stdout",
     "output_type": "stream",
     "text": [
      "====================\n",
      "Iteration 20001\n",
      "Accuracy: 0.733\n",
      "Confusion matrix\n",
      "\n"
     ]
    },
    {
     "data": {
      "text/plain": [
       "        False   True  \n",
       "False     521     83  \n",
       " True     184    212  "
      ]
     },
     "metadata": {},
     "output_type": "display_data"
    },
    {
     "name": "stdout",
     "output_type": "stream",
     "text": [
      "====================\n",
      "Iteration 21001\n",
      "Accuracy: 0.736\n",
      "Confusion matrix\n",
      "\n"
     ]
    },
    {
     "data": {
      "text/plain": [
       "        False   True  \n",
       "False     511     78  \n",
       " True     186    225  "
      ]
     },
     "metadata": {},
     "output_type": "display_data"
    },
    {
     "name": "stdout",
     "output_type": "stream",
     "text": [
      "====================\n",
      "Iteration 22001\n",
      "Accuracy: 0.723\n",
      "Confusion matrix\n",
      "\n"
     ]
    },
    {
     "data": {
      "text/plain": [
       "        False   True  \n",
       "False     506     85  \n",
       " True     192    217  "
      ]
     },
     "metadata": {},
     "output_type": "display_data"
    },
    {
     "name": "stdout",
     "output_type": "stream",
     "text": [
      "====================\n",
      "Iteration 23001\n",
      "Accuracy: 0.714\n",
      "Confusion matrix\n",
      "\n"
     ]
    },
    {
     "data": {
      "text/plain": [
       "        False   True  \n",
       "False     492    104  \n",
       " True     182    222  "
      ]
     },
     "metadata": {},
     "output_type": "display_data"
    },
    {
     "name": "stdout",
     "output_type": "stream",
     "text": [
      "====================\n",
      "Iteration 24001\n",
      "Accuracy: 0.715\n",
      "Confusion matrix\n",
      "\n"
     ]
    },
    {
     "data": {
      "text/plain": [
       "        False   True  \n",
       "False     533     82  \n",
       " True     203    182  "
      ]
     },
     "metadata": {},
     "output_type": "display_data"
    },
    {
     "name": "stdout",
     "output_type": "stream",
     "text": [
      "====================\n",
      "Iteration 25001\n",
      "Accuracy: 0.699\n",
      "Confusion matrix\n",
      "\n"
     ]
    },
    {
     "data": {
      "text/plain": [
       "        False   True  \n",
       "False     501    102  \n",
       " True     199    198  "
      ]
     },
     "metadata": {},
     "output_type": "display_data"
    },
    {
     "name": "stdout",
     "output_type": "stream",
     "text": [
      "====================\n",
      "Iteration 26001\n",
      "Accuracy: 0.749\n",
      "Confusion matrix\n",
      "\n"
     ]
    },
    {
     "data": {
      "text/plain": [
       "        False   True  \n",
       "False     529     84  \n",
       " True     167    220  "
      ]
     },
     "metadata": {},
     "output_type": "display_data"
    },
    {
     "name": "stdout",
     "output_type": "stream",
     "text": [
      "====================\n",
      "Iteration 27001\n",
      "Accuracy: 0.691\n",
      "Confusion matrix\n",
      "\n"
     ]
    },
    {
     "data": {
      "text/plain": [
       "        False   True  \n",
       "False     519     86  \n",
       " True     223    172  "
      ]
     },
     "metadata": {},
     "output_type": "display_data"
    },
    {
     "name": "stdout",
     "output_type": "stream",
     "text": [
      "====================\n",
      "Iteration 28001\n",
      "Accuracy: 0.7\n",
      "Confusion matrix\n",
      "\n"
     ]
    },
    {
     "data": {
      "text/plain": [
       "        False   True  \n",
       "False     484    103  \n",
       " True     197    216  "
      ]
     },
     "metadata": {},
     "output_type": "display_data"
    },
    {
     "name": "stdout",
     "output_type": "stream",
     "text": [
      "====================\n",
      "Iteration 29001\n",
      "Accuracy: 0.715\n",
      "Confusion matrix\n",
      "\n"
     ]
    },
    {
     "data": {
      "text/plain": [
       "        False   True  \n",
       "False     511    101  \n",
       " True     184    204  "
      ]
     },
     "metadata": {},
     "output_type": "display_data"
    }
   ],
   "source": [
    "y_tr, y_pr = evaluate_model(model, data)"
   ]
  },
  {
   "cell_type": "markdown",
   "id": "4479deec",
   "metadata": {},
   "source": [
    "## Hoeffding tree"
   ]
  },
  {
   "cell_type": "code",
   "execution_count": 18,
   "id": "30c76770",
   "metadata": {},
   "outputs": [],
   "source": [
    "data = DriftingFlow(1.5e4, 200)"
   ]
  },
  {
   "cell_type": "code",
   "execution_count": 17,
   "id": "16fc451b",
   "metadata": {},
   "outputs": [],
   "source": [
    "model = compose.Pipeline(\n",
    "    #('scale', preprocessing.StandardScaler()),\n",
    "    ('tree', tree.HoeffdingTreeClassifier())\n",
    ")"
   ]
  },
  {
   "cell_type": "code",
   "execution_count": 19,
   "id": "ad7a2035",
   "metadata": {},
   "outputs": [
    {
     "name": "stdout",
     "output_type": "stream",
     "text": [
      "====================\n",
      "Iteration 1\n",
      "Accuracy: 0.0\n",
      "Confusion matrix\n",
      "\n"
     ]
    },
    {
     "ename": "TypeError",
     "evalue": "'<' not supported between instances of 'NoneType' and 'bool'",
     "output_type": "error",
     "traceback": [
      "\u001b[0;31m---------------------------------------------------------------------------\u001b[0m",
      "\u001b[0;31mTypeError\u001b[0m                                 Traceback (most recent call last)",
      "File \u001b[0;32m~/opt/anaconda3/envs/advanced_ml/lib/python3.10/site-packages/IPython/core/formatters.py:706\u001b[0m, in \u001b[0;36mPlainTextFormatter.__call__\u001b[0;34m(self, obj)\u001b[0m\n\u001b[1;32m    699\u001b[0m stream \u001b[38;5;241m=\u001b[39m StringIO()\n\u001b[1;32m    700\u001b[0m printer \u001b[38;5;241m=\u001b[39m pretty\u001b[38;5;241m.\u001b[39mRepresentationPrinter(stream, \u001b[38;5;28mself\u001b[39m\u001b[38;5;241m.\u001b[39mverbose,\n\u001b[1;32m    701\u001b[0m     \u001b[38;5;28mself\u001b[39m\u001b[38;5;241m.\u001b[39mmax_width, \u001b[38;5;28mself\u001b[39m\u001b[38;5;241m.\u001b[39mnewline,\n\u001b[1;32m    702\u001b[0m     max_seq_length\u001b[38;5;241m=\u001b[39m\u001b[38;5;28mself\u001b[39m\u001b[38;5;241m.\u001b[39mmax_seq_length,\n\u001b[1;32m    703\u001b[0m     singleton_pprinters\u001b[38;5;241m=\u001b[39m\u001b[38;5;28mself\u001b[39m\u001b[38;5;241m.\u001b[39msingleton_printers,\n\u001b[1;32m    704\u001b[0m     type_pprinters\u001b[38;5;241m=\u001b[39m\u001b[38;5;28mself\u001b[39m\u001b[38;5;241m.\u001b[39mtype_printers,\n\u001b[1;32m    705\u001b[0m     deferred_pprinters\u001b[38;5;241m=\u001b[39m\u001b[38;5;28mself\u001b[39m\u001b[38;5;241m.\u001b[39mdeferred_printers)\n\u001b[0;32m--> 706\u001b[0m \u001b[43mprinter\u001b[49m\u001b[38;5;241;43m.\u001b[39;49m\u001b[43mpretty\u001b[49m\u001b[43m(\u001b[49m\u001b[43mobj\u001b[49m\u001b[43m)\u001b[49m\n\u001b[1;32m    707\u001b[0m printer\u001b[38;5;241m.\u001b[39mflush()\n\u001b[1;32m    708\u001b[0m \u001b[38;5;28;01mreturn\u001b[39;00m stream\u001b[38;5;241m.\u001b[39mgetvalue()\n",
      "File \u001b[0;32m~/opt/anaconda3/envs/advanced_ml/lib/python3.10/site-packages/IPython/lib/pretty.py:410\u001b[0m, in \u001b[0;36mRepresentationPrinter.pretty\u001b[0;34m(self, obj)\u001b[0m\n\u001b[1;32m    407\u001b[0m                         \u001b[38;5;28;01mreturn\u001b[39;00m meth(obj, \u001b[38;5;28mself\u001b[39m, cycle)\n\u001b[1;32m    408\u001b[0m                 \u001b[38;5;28;01mif\u001b[39;00m \u001b[38;5;28mcls\u001b[39m \u001b[38;5;129;01mis\u001b[39;00m \u001b[38;5;129;01mnot\u001b[39;00m \u001b[38;5;28mobject\u001b[39m \\\n\u001b[1;32m    409\u001b[0m                         \u001b[38;5;129;01mand\u001b[39;00m callable(\u001b[38;5;28mcls\u001b[39m\u001b[38;5;241m.\u001b[39m\u001b[38;5;18m__dict__\u001b[39m\u001b[38;5;241m.\u001b[39mget(\u001b[38;5;124m'\u001b[39m\u001b[38;5;124m__repr__\u001b[39m\u001b[38;5;124m'\u001b[39m)):\n\u001b[0;32m--> 410\u001b[0m                     \u001b[38;5;28;01mreturn\u001b[39;00m \u001b[43m_repr_pprint\u001b[49m\u001b[43m(\u001b[49m\u001b[43mobj\u001b[49m\u001b[43m,\u001b[49m\u001b[43m \u001b[49m\u001b[38;5;28;43mself\u001b[39;49m\u001b[43m,\u001b[49m\u001b[43m \u001b[49m\u001b[43mcycle\u001b[49m\u001b[43m)\u001b[49m\n\u001b[1;32m    412\u001b[0m     \u001b[38;5;28;01mreturn\u001b[39;00m _default_pprint(obj, \u001b[38;5;28mself\u001b[39m, cycle)\n\u001b[1;32m    413\u001b[0m \u001b[38;5;28;01mfinally\u001b[39;00m:\n",
      "File \u001b[0;32m~/opt/anaconda3/envs/advanced_ml/lib/python3.10/site-packages/IPython/lib/pretty.py:778\u001b[0m, in \u001b[0;36m_repr_pprint\u001b[0;34m(obj, p, cycle)\u001b[0m\n\u001b[1;32m    776\u001b[0m \u001b[38;5;124;03m\"\"\"A pprint that just redirects to the normal repr function.\"\"\"\u001b[39;00m\n\u001b[1;32m    777\u001b[0m \u001b[38;5;66;03m# Find newlines and replace them with p.break_()\u001b[39;00m\n\u001b[0;32m--> 778\u001b[0m output \u001b[38;5;241m=\u001b[39m \u001b[38;5;28;43mrepr\u001b[39;49m\u001b[43m(\u001b[49m\u001b[43mobj\u001b[49m\u001b[43m)\u001b[49m\n\u001b[1;32m    779\u001b[0m lines \u001b[38;5;241m=\u001b[39m output\u001b[38;5;241m.\u001b[39msplitlines()\n\u001b[1;32m    780\u001b[0m \u001b[38;5;28;01mwith\u001b[39;00m p\u001b[38;5;241m.\u001b[39mgroup():\n",
      "File \u001b[0;32m~/opt/anaconda3/envs/advanced_ml/lib/python3.10/site-packages/river/utils/rolling.py:34\u001b[0m, in \u001b[0;36mBaseRolling.__repr__\u001b[0;34m(self)\u001b[0m\n\u001b[1;32m     33\u001b[0m \u001b[38;5;28;01mdef\u001b[39;00m \u001b[38;5;21m__repr__\u001b[39m(\u001b[38;5;28mself\u001b[39m):\n\u001b[0;32m---> 34\u001b[0m     \u001b[38;5;28;01mreturn\u001b[39;00m \u001b[38;5;28;43mrepr\u001b[39;49m\u001b[43m(\u001b[49m\u001b[38;5;28;43mself\u001b[39;49m\u001b[38;5;241;43m.\u001b[39;49m\u001b[43mobj\u001b[49m\u001b[43m)\u001b[49m\n",
      "File \u001b[0;32m~/opt/anaconda3/envs/advanced_ml/lib/python3.10/site-packages/river/metrics/confusion.py:88\u001b[0m, in \u001b[0;36mConfusionMatrix.__repr__\u001b[0;34m(self)\u001b[0m\n\u001b[1;32m     86\u001b[0m \u001b[38;5;28;01mdef\u001b[39;00m \u001b[38;5;21m__repr__\u001b[39m(\u001b[38;5;28mself\u001b[39m):\n\u001b[0;32m---> 88\u001b[0m     classes \u001b[38;5;241m=\u001b[39m \u001b[38;5;28;43msorted\u001b[39;49m\u001b[43m(\u001b[49m\u001b[38;5;28;43mself\u001b[39;49m\u001b[38;5;241;43m.\u001b[39;49m\u001b[43mclasses\u001b[49m\u001b[43m)\u001b[49m\n\u001b[1;32m     89\u001b[0m     \u001b[38;5;28;01mif\u001b[39;00m \u001b[38;5;129;01mnot\u001b[39;00m classes:\n\u001b[1;32m     90\u001b[0m         \u001b[38;5;28;01mreturn\u001b[39;00m \u001b[38;5;124m\"\u001b[39m\u001b[38;5;124m\"\u001b[39m\n",
      "\u001b[0;31mTypeError\u001b[0m: '<' not supported between instances of 'NoneType' and 'bool'"
     ]
    },
    {
     "name": "stdout",
     "output_type": "stream",
     "text": [
      "====================\n",
      "Iteration 1001\n",
      "Accuracy: 0.927\n",
      "Confusion matrix\n",
      "\n"
     ]
    },
    {
     "data": {
      "text/plain": [
       "        False   True  \n",
       "False     672      4  \n",
       " True      69    255  "
      ]
     },
     "metadata": {},
     "output_type": "display_data"
    },
    {
     "name": "stdout",
     "output_type": "stream",
     "text": [
      "====================\n",
      "Iteration 2001\n",
      "Accuracy: 0.945\n",
      "Confusion matrix\n",
      "\n"
     ]
    },
    {
     "data": {
      "text/plain": [
       "        False   True  \n",
       "False     699      0  \n",
       " True      55    246  "
      ]
     },
     "metadata": {},
     "output_type": "display_data"
    },
    {
     "name": "stdout",
     "output_type": "stream",
     "text": [
      "====================\n",
      "Iteration 3001\n",
      "Accuracy: 0.95\n",
      "Confusion matrix\n",
      "\n"
     ]
    },
    {
     "data": {
      "text/plain": [
       "        False   True  \n",
       "False     692      0  \n",
       " True      50    258  "
      ]
     },
     "metadata": {},
     "output_type": "display_data"
    },
    {
     "name": "stdout",
     "output_type": "stream",
     "text": [
      "====================\n",
      "Iteration 4001\n",
      "Accuracy: 0.923\n",
      "Confusion matrix\n",
      "\n"
     ]
    },
    {
     "data": {
      "text/plain": [
       "        False   True  \n",
       "False     680     16  \n",
       " True      61    243  "
      ]
     },
     "metadata": {},
     "output_type": "display_data"
    },
    {
     "name": "stdout",
     "output_type": "stream",
     "text": [
      "====================\n",
      "Iteration 5001\n",
      "Accuracy: 0.962\n",
      "Confusion matrix\n",
      "\n"
     ]
    },
    {
     "data": {
      "text/plain": [
       "        False   True  \n",
       "False     666     25  \n",
       " True      13    296  "
      ]
     },
     "metadata": {},
     "output_type": "display_data"
    },
    {
     "name": "stdout",
     "output_type": "stream",
     "text": [
      "====================\n",
      "Iteration 6001\n",
      "Accuracy: 0.963\n",
      "Confusion matrix\n",
      "\n"
     ]
    },
    {
     "data": {
      "text/plain": [
       "        False   True  \n",
       "False     688     23  \n",
       " True      14    275  "
      ]
     },
     "metadata": {},
     "output_type": "display_data"
    },
    {
     "name": "stdout",
     "output_type": "stream",
     "text": [
      "====================\n",
      "Iteration 7001\n",
      "Accuracy: 0.968\n",
      "Confusion matrix\n",
      "\n"
     ]
    },
    {
     "data": {
      "text/plain": [
       "        False   True  \n",
       "False     660     21  \n",
       " True      11    308  "
      ]
     },
     "metadata": {},
     "output_type": "display_data"
    },
    {
     "name": "stdout",
     "output_type": "stream",
     "text": [
      "====================\n",
      "Iteration 8001\n",
      "Accuracy: 0.986\n",
      "Confusion matrix\n",
      "\n"
     ]
    },
    {
     "data": {
      "text/plain": [
       "        False   True  \n",
       "False     654      5  \n",
       " True       9    332  "
      ]
     },
     "metadata": {},
     "output_type": "display_data"
    },
    {
     "name": "stdout",
     "output_type": "stream",
     "text": [
      "====================\n",
      "Iteration 9001\n",
      "Accuracy: 0.988\n",
      "Confusion matrix\n",
      "\n"
     ]
    },
    {
     "data": {
      "text/plain": [
       "        False   True  \n",
       "False     665      1  \n",
       " True      11    323  "
      ]
     },
     "metadata": {},
     "output_type": "display_data"
    },
    {
     "name": "stdout",
     "output_type": "stream",
     "text": [
      "====================\n",
      "Iteration 10001\n",
      "Accuracy: 0.981\n",
      "Confusion matrix\n",
      "\n"
     ]
    },
    {
     "data": {
      "text/plain": [
       "        False   True  \n",
       "False     678      9  \n",
       " True      10    303  "
      ]
     },
     "metadata": {},
     "output_type": "display_data"
    },
    {
     "name": "stdout",
     "output_type": "stream",
     "text": [
      "====================\n",
      "Iteration 11001\n",
      "Accuracy: 0.904\n",
      "Confusion matrix\n",
      "\n"
     ]
    },
    {
     "data": {
      "text/plain": [
       "        False   True  \n",
       "False     584      0  \n",
       " True      96    320  "
      ]
     },
     "metadata": {},
     "output_type": "display_data"
    },
    {
     "name": "stdout",
     "output_type": "stream",
     "text": [
      "====================\n",
      "Iteration 12001\n",
      "Accuracy: 0.905\n",
      "Confusion matrix\n",
      "\n"
     ]
    },
    {
     "data": {
      "text/plain": [
       "        False   True  \n",
       "False     596      1  \n",
       " True      94    309  "
      ]
     },
     "metadata": {},
     "output_type": "display_data"
    },
    {
     "name": "stdout",
     "output_type": "stream",
     "text": [
      "====================\n",
      "Iteration 13001\n",
      "Accuracy: 0.92\n",
      "Confusion matrix\n",
      "\n"
     ]
    },
    {
     "data": {
      "text/plain": [
       "        False   True  \n",
       "False     596      2  \n",
       " True      78    324  "
      ]
     },
     "metadata": {},
     "output_type": "display_data"
    },
    {
     "name": "stdout",
     "output_type": "stream",
     "text": [
      "====================\n",
      "Iteration 14001\n",
      "Accuracy: 0.922\n",
      "Confusion matrix\n",
      "\n"
     ]
    },
    {
     "data": {
      "text/plain": [
       "        False   True  \n",
       "False     605      3  \n",
       " True      75    317  "
      ]
     },
     "metadata": {},
     "output_type": "display_data"
    },
    {
     "name": "stdout",
     "output_type": "stream",
     "text": [
      "====================\n",
      "Iteration 15001\n",
      "Accuracy: 0.94\n",
      "Confusion matrix\n",
      "\n"
     ]
    },
    {
     "data": {
      "text/plain": [
       "        False   True  \n",
       "False     599      5  \n",
       " True      55    341  "
      ]
     },
     "metadata": {},
     "output_type": "display_data"
    },
    {
     "name": "stdout",
     "output_type": "stream",
     "text": [
      "====================\n",
      "Iteration 16001\n",
      "Accuracy: 0.958\n",
      "Confusion matrix\n",
      "\n"
     ]
    },
    {
     "data": {
      "text/plain": [
       "        False   True  \n",
       "False     625      2  \n",
       " True      40    333  "
      ]
     },
     "metadata": {},
     "output_type": "display_data"
    },
    {
     "name": "stdout",
     "output_type": "stream",
     "text": [
      "====================\n",
      "Iteration 17001\n",
      "Accuracy: 0.953\n",
      "Confusion matrix\n",
      "\n"
     ]
    },
    {
     "data": {
      "text/plain": [
       "        False   True  \n",
       "False     601      2  \n",
       " True      45    352  "
      ]
     },
     "metadata": {},
     "output_type": "display_data"
    },
    {
     "name": "stdout",
     "output_type": "stream",
     "text": [
      "====================\n",
      "Iteration 18001\n",
      "Accuracy: 0.937\n",
      "Confusion matrix\n",
      "\n"
     ]
    },
    {
     "data": {
      "text/plain": [
       "        False   True  \n",
       "False     552      8  \n",
       " True      55    385  "
      ]
     },
     "metadata": {},
     "output_type": "display_data"
    },
    {
     "name": "stdout",
     "output_type": "stream",
     "text": [
      "====================\n",
      "Iteration 19001\n",
      "Accuracy: 0.969\n",
      "Confusion matrix\n",
      "\n"
     ]
    },
    {
     "data": {
      "text/plain": [
       "        False   True  \n",
       "False     578     11  \n",
       " True      20    391  "
      ]
     },
     "metadata": {},
     "output_type": "display_data"
    },
    {
     "name": "stdout",
     "output_type": "stream",
     "text": [
      "====================\n",
      "Iteration 20001\n",
      "Accuracy: 0.956\n",
      "Confusion matrix\n",
      "\n"
     ]
    },
    {
     "data": {
      "text/plain": [
       "        False   True  \n",
       "False     583     21  \n",
       " True      23    373  "
      ]
     },
     "metadata": {},
     "output_type": "display_data"
    },
    {
     "name": "stdout",
     "output_type": "stream",
     "text": [
      "====================\n",
      "Iteration 21001\n",
      "Accuracy: 0.964\n",
      "Confusion matrix\n",
      "\n"
     ]
    },
    {
     "data": {
      "text/plain": [
       "        False   True  \n",
       "False     575     14  \n",
       " True      22    389  "
      ]
     },
     "metadata": {},
     "output_type": "display_data"
    },
    {
     "name": "stdout",
     "output_type": "stream",
     "text": [
      "====================\n",
      "Iteration 22001\n",
      "Accuracy: 0.968\n",
      "Confusion matrix\n",
      "\n"
     ]
    },
    {
     "data": {
      "text/plain": [
       "        False   True  \n",
       "False     577     14  \n",
       " True      18    391  "
      ]
     },
     "metadata": {},
     "output_type": "display_data"
    },
    {
     "name": "stdout",
     "output_type": "stream",
     "text": [
      "====================\n",
      "Iteration 23001\n",
      "Accuracy: 0.965\n",
      "Confusion matrix\n",
      "\n"
     ]
    },
    {
     "data": {
      "text/plain": [
       "        False   True  \n",
       "False     583     13  \n",
       " True      22    382  "
      ]
     },
     "metadata": {},
     "output_type": "display_data"
    },
    {
     "name": "stdout",
     "output_type": "stream",
     "text": [
      "====================\n",
      "Iteration 24001\n",
      "Accuracy: 0.98\n",
      "Confusion matrix\n",
      "\n"
     ]
    },
    {
     "data": {
      "text/plain": [
       "        False   True  \n",
       "False     605     10  \n",
       " True      10    375  "
      ]
     },
     "metadata": {},
     "output_type": "display_data"
    },
    {
     "name": "stdout",
     "output_type": "stream",
     "text": [
      "====================\n",
      "Iteration 25001\n",
      "Accuracy: 0.971\n",
      "Confusion matrix\n",
      "\n"
     ]
    },
    {
     "data": {
      "text/plain": [
       "        False   True  \n",
       "False     592     11  \n",
       " True      18    379  "
      ]
     },
     "metadata": {},
     "output_type": "display_data"
    },
    {
     "name": "stdout",
     "output_type": "stream",
     "text": [
      "====================\n",
      "Iteration 26001\n",
      "Accuracy: 0.975\n",
      "Confusion matrix\n",
      "\n"
     ]
    },
    {
     "data": {
      "text/plain": [
       "        False   True  \n",
       "False     603     10  \n",
       " True      15    372  "
      ]
     },
     "metadata": {},
     "output_type": "display_data"
    },
    {
     "name": "stdout",
     "output_type": "stream",
     "text": [
      "====================\n",
      "Iteration 27001\n",
      "Accuracy: 0.98\n",
      "Confusion matrix\n",
      "\n"
     ]
    },
    {
     "data": {
      "text/plain": [
       "        False   True  \n",
       "False     592     13  \n",
       " True       7    388  "
      ]
     },
     "metadata": {},
     "output_type": "display_data"
    },
    {
     "name": "stdout",
     "output_type": "stream",
     "text": [
      "====================\n",
      "Iteration 28001\n",
      "Accuracy: 0.988\n",
      "Confusion matrix\n",
      "\n"
     ]
    },
    {
     "data": {
      "text/plain": [
       "        False   True  \n",
       "False     581      6  \n",
       " True       6    407  "
      ]
     },
     "metadata": {},
     "output_type": "display_data"
    },
    {
     "name": "stdout",
     "output_type": "stream",
     "text": [
      "====================\n",
      "Iteration 29001\n",
      "Accuracy: 0.979\n",
      "Confusion matrix\n",
      "\n"
     ]
    },
    {
     "data": {
      "text/plain": [
       "        False   True  \n",
       "False     601     11  \n",
       " True      10    378  "
      ]
     },
     "metadata": {},
     "output_type": "display_data"
    }
   ],
   "source": [
    "y_tr, y_pr = evaluate_model(model, data)"
   ]
  },
  {
   "cell_type": "markdown",
   "id": "93253f25",
   "metadata": {},
   "source": [
    "## Perceptron"
   ]
  },
  {
   "cell_type": "code",
   "execution_count": 20,
   "id": "e1fee253",
   "metadata": {},
   "outputs": [],
   "source": [
    "data = DriftingFlow(1.5e4, 200)"
   ]
  },
  {
   "cell_type": "code",
   "execution_count": 21,
   "id": "674b93bc",
   "metadata": {},
   "outputs": [],
   "source": [
    "model = compose.Pipeline(\n",
    "    #('scale', preprocessing.StandardScaler()),\n",
    "    ('tree', linear_model.Perceptron())\n",
    ")"
   ]
  },
  {
   "cell_type": "code",
   "execution_count": 22,
   "id": "607f7702",
   "metadata": {},
   "outputs": [
    {
     "name": "stdout",
     "output_type": "stream",
     "text": [
      "====================\n",
      "Iteration 1\n",
      "Accuracy: 0.5\n",
      "Confusion matrix\n",
      "\n"
     ]
    },
    {
     "data": {
      "text/plain": [
       "        False   True  \n",
       "False       1      0  \n",
       " True       1      0  "
      ]
     },
     "metadata": {},
     "output_type": "display_data"
    },
    {
     "name": "stdout",
     "output_type": "stream",
     "text": [
      "====================\n",
      "Iteration 1001\n",
      "Accuracy: 0.763\n",
      "Confusion matrix\n",
      "\n"
     ]
    },
    {
     "data": {
      "text/plain": [
       "        False   True  \n",
       "False     587     89  \n",
       " True     148    176  "
      ]
     },
     "metadata": {},
     "output_type": "display_data"
    },
    {
     "name": "stdout",
     "output_type": "stream",
     "text": [
      "====================\n",
      "Iteration 2001\n",
      "Accuracy: 0.841\n",
      "Confusion matrix\n",
      "\n"
     ]
    },
    {
     "data": {
      "text/plain": [
       "        False   True  \n",
       "False     635     64  \n",
       " True      95    206  "
      ]
     },
     "metadata": {},
     "output_type": "display_data"
    },
    {
     "name": "stdout",
     "output_type": "stream",
     "text": [
      "====================\n",
      "Iteration 3001\n",
      "Accuracy: 0.855\n",
      "Confusion matrix\n",
      "\n"
     ]
    },
    {
     "data": {
      "text/plain": [
       "        False   True  \n",
       "False     631     61  \n",
       " True      84    224  "
      ]
     },
     "metadata": {},
     "output_type": "display_data"
    },
    {
     "name": "stdout",
     "output_type": "stream",
     "text": [
      "====================\n",
      "Iteration 4001\n",
      "Accuracy: 0.895\n",
      "Confusion matrix\n",
      "\n"
     ]
    },
    {
     "data": {
      "text/plain": [
       "        False   True  \n",
       "False     652     44  \n",
       " True      61    243  "
      ]
     },
     "metadata": {},
     "output_type": "display_data"
    },
    {
     "name": "stdout",
     "output_type": "stream",
     "text": [
      "====================\n",
      "Iteration 5001\n",
      "Accuracy: 0.896\n",
      "Confusion matrix\n",
      "\n"
     ]
    },
    {
     "data": {
      "text/plain": [
       "        False   True  \n",
       "False     647     44  \n",
       " True      60    249  "
      ]
     },
     "metadata": {},
     "output_type": "display_data"
    },
    {
     "name": "stdout",
     "output_type": "stream",
     "text": [
      "====================\n",
      "Iteration 6001\n",
      "Accuracy: 0.909\n",
      "Confusion matrix\n",
      "\n"
     ]
    },
    {
     "data": {
      "text/plain": [
       "        False   True  \n",
       "False     671     40  \n",
       " True      51    238  "
      ]
     },
     "metadata": {},
     "output_type": "display_data"
    },
    {
     "name": "stdout",
     "output_type": "stream",
     "text": [
      "====================\n",
      "Iteration 7001\n",
      "Accuracy: 0.919\n",
      "Confusion matrix\n",
      "\n"
     ]
    },
    {
     "data": {
      "text/plain": [
       "        False   True  \n",
       "False     645     36  \n",
       " True      45    274  "
      ]
     },
     "metadata": {},
     "output_type": "display_data"
    },
    {
     "name": "stdout",
     "output_type": "stream",
     "text": [
      "====================\n",
      "Iteration 8001\n",
      "Accuracy: 0.912\n",
      "Confusion matrix\n",
      "\n"
     ]
    },
    {
     "data": {
      "text/plain": [
       "        False   True  \n",
       "False     620     39  \n",
       " True      49    292  "
      ]
     },
     "metadata": {},
     "output_type": "display_data"
    },
    {
     "name": "stdout",
     "output_type": "stream",
     "text": [
      "====================\n",
      "Iteration 9001\n",
      "Accuracy: 0.921\n",
      "Confusion matrix\n",
      "\n"
     ]
    },
    {
     "data": {
      "text/plain": [
       "        False   True  \n",
       "False     631     35  \n",
       " True      44    290  "
      ]
     },
     "metadata": {},
     "output_type": "display_data"
    },
    {
     "name": "stdout",
     "output_type": "stream",
     "text": [
      "====================\n",
      "Iteration 10001\n",
      "Accuracy: 0.922\n",
      "Confusion matrix\n",
      "\n"
     ]
    },
    {
     "data": {
      "text/plain": [
       "        False   True  \n",
       "False     652     35  \n",
       " True      43    270  "
      ]
     },
     "metadata": {},
     "output_type": "display_data"
    },
    {
     "name": "stdout",
     "output_type": "stream",
     "text": [
      "====================\n",
      "Iteration 11001\n",
      "Accuracy: 0.916\n",
      "Confusion matrix\n",
      "\n"
     ]
    },
    {
     "data": {
      "text/plain": [
       "        False   True  \n",
       "False     546     38  \n",
       " True      46    370  "
      ]
     },
     "metadata": {},
     "output_type": "display_data"
    },
    {
     "name": "stdout",
     "output_type": "stream",
     "text": [
      "====================\n",
      "Iteration 12001\n",
      "Accuracy: 0.895\n",
      "Confusion matrix\n",
      "\n"
     ]
    },
    {
     "data": {
      "text/plain": [
       "        False   True  \n",
       "False     550     47  \n",
       " True      58    345  "
      ]
     },
     "metadata": {},
     "output_type": "display_data"
    },
    {
     "name": "stdout",
     "output_type": "stream",
     "text": [
      "====================\n",
      "Iteration 13001\n",
      "Accuracy: 0.913\n",
      "Confusion matrix\n",
      "\n"
     ]
    },
    {
     "data": {
      "text/plain": [
       "        False   True  \n",
       "False     559     39  \n",
       " True      48    354  "
      ]
     },
     "metadata": {},
     "output_type": "display_data"
    },
    {
     "name": "stdout",
     "output_type": "stream",
     "text": [
      "====================\n",
      "Iteration 14001\n",
      "Accuracy: 0.97\n",
      "Confusion matrix\n",
      "\n"
     ]
    },
    {
     "data": {
      "text/plain": [
       "        False   True  \n",
       "False     594     14  \n",
       " True      16    376  "
      ]
     },
     "metadata": {},
     "output_type": "display_data"
    },
    {
     "name": "stdout",
     "output_type": "stream",
     "text": [
      "====================\n",
      "Iteration 15001\n",
      "Accuracy: 0.881\n",
      "Confusion matrix\n",
      "\n"
     ]
    },
    {
     "data": {
      "text/plain": [
       "        False   True  \n",
       "False     550     54  \n",
       " True      65    331  "
      ]
     },
     "metadata": {},
     "output_type": "display_data"
    },
    {
     "name": "stdout",
     "output_type": "stream",
     "text": [
      "====================\n",
      "Iteration 16001\n",
      "Accuracy: 0.905\n",
      "Confusion matrix\n",
      "\n"
     ]
    },
    {
     "data": {
      "text/plain": [
       "        False   True  \n",
       "False     584     43  \n",
       " True      52    321  "
      ]
     },
     "metadata": {},
     "output_type": "display_data"
    },
    {
     "name": "stdout",
     "output_type": "stream",
     "text": [
      "====================\n",
      "Iteration 17001\n",
      "Accuracy: 0.93\n",
      "Confusion matrix\n",
      "\n"
     ]
    },
    {
     "data": {
      "text/plain": [
       "        False   True  \n",
       "False     571     32  \n",
       " True      38    359  "
      ]
     },
     "metadata": {},
     "output_type": "display_data"
    },
    {
     "name": "stdout",
     "output_type": "stream",
     "text": [
      "====================\n",
      "Iteration 18001\n",
      "Accuracy: 0.926\n",
      "Confusion matrix\n",
      "\n"
     ]
    },
    {
     "data": {
      "text/plain": [
       "        False   True  \n",
       "False     526     34  \n",
       " True      40    400  "
      ]
     },
     "metadata": {},
     "output_type": "display_data"
    },
    {
     "name": "stdout",
     "output_type": "stream",
     "text": [
      "====================\n",
      "Iteration 19001\n",
      "Accuracy: 0.935\n",
      "Confusion matrix\n",
      "\n"
     ]
    },
    {
     "data": {
      "text/plain": [
       "        False   True  \n",
       "False     559     30  \n",
       " True      35    376  "
      ]
     },
     "metadata": {},
     "output_type": "display_data"
    },
    {
     "name": "stdout",
     "output_type": "stream",
     "text": [
      "====================\n",
      "Iteration 20001\n",
      "Accuracy: 0.948\n",
      "Confusion matrix\n",
      "\n"
     ]
    },
    {
     "data": {
      "text/plain": [
       "        False   True  \n",
       "False     580     24  \n",
       " True      28    368  "
      ]
     },
     "metadata": {},
     "output_type": "display_data"
    },
    {
     "name": "stdout",
     "output_type": "stream",
     "text": [
      "====================\n",
      "Iteration 21001\n",
      "Accuracy: 0.906\n",
      "Confusion matrix\n",
      "\n"
     ]
    },
    {
     "data": {
      "text/plain": [
       "        False   True  \n",
       "False     546     43  \n",
       " True      51    360  "
      ]
     },
     "metadata": {},
     "output_type": "display_data"
    },
    {
     "name": "stdout",
     "output_type": "stream",
     "text": [
      "====================\n",
      "Iteration 22001\n",
      "Accuracy: 0.921\n",
      "Confusion matrix\n",
      "\n"
     ]
    },
    {
     "data": {
      "text/plain": [
       "        False   True  \n",
       "False     555     36  \n",
       " True      43    366  "
      ]
     },
     "metadata": {},
     "output_type": "display_data"
    },
    {
     "name": "stdout",
     "output_type": "stream",
     "text": [
      "====================\n",
      "Iteration 23001\n",
      "Accuracy: 0.918\n",
      "Confusion matrix\n",
      "\n"
     ]
    },
    {
     "data": {
      "text/plain": [
       "        False   True  \n",
       "False     558     38  \n",
       " True      44    360  "
      ]
     },
     "metadata": {},
     "output_type": "display_data"
    },
    {
     "name": "stdout",
     "output_type": "stream",
     "text": [
      "====================\n",
      "Iteration 24001\n",
      "Accuracy: 0.934\n",
      "Confusion matrix\n",
      "\n"
     ]
    },
    {
     "data": {
      "text/plain": [
       "        False   True  \n",
       "False     585     30  \n",
       " True      36    349  "
      ]
     },
     "metadata": {},
     "output_type": "display_data"
    },
    {
     "name": "stdout",
     "output_type": "stream",
     "text": [
      "====================\n",
      "Iteration 25001\n",
      "Accuracy: 0.923\n",
      "Confusion matrix\n",
      "\n"
     ]
    },
    {
     "data": {
      "text/plain": [
       "        False   True  \n",
       "False     567     36  \n",
       " True      41    356  "
      ]
     },
     "metadata": {},
     "output_type": "display_data"
    },
    {
     "name": "stdout",
     "output_type": "stream",
     "text": [
      "====================\n",
      "Iteration 26001\n",
      "Accuracy: 0.928\n",
      "Confusion matrix\n",
      "\n"
     ]
    },
    {
     "data": {
      "text/plain": [
       "        False   True  \n",
       "False     579     34  \n",
       " True      38    349  "
      ]
     },
     "metadata": {},
     "output_type": "display_data"
    },
    {
     "name": "stdout",
     "output_type": "stream",
     "text": [
      "====================\n",
      "Iteration 27001\n",
      "Accuracy: 0.921\n",
      "Confusion matrix\n",
      "\n"
     ]
    },
    {
     "data": {
      "text/plain": [
       "        False   True  \n",
       "False     569     36  \n",
       " True      43    352  "
      ]
     },
     "metadata": {},
     "output_type": "display_data"
    },
    {
     "name": "stdout",
     "output_type": "stream",
     "text": [
      "====================\n",
      "Iteration 28001\n",
      "Accuracy: 0.947\n",
      "Confusion matrix\n",
      "\n"
     ]
    },
    {
     "data": {
      "text/plain": [
       "        False   True  \n",
       "False     563     24  \n",
       " True      29    384  "
      ]
     },
     "metadata": {},
     "output_type": "display_data"
    },
    {
     "name": "stdout",
     "output_type": "stream",
     "text": [
      "====================\n",
      "Iteration 29001\n",
      "Accuracy: 0.916\n",
      "Confusion matrix\n",
      "\n"
     ]
    },
    {
     "data": {
      "text/plain": [
       "        False   True  \n",
       "False     572     40  \n",
       " True      44    344  "
      ]
     },
     "metadata": {},
     "output_type": "display_data"
    }
   ],
   "source": [
    "y_tr, y_pr = evaluate_model(model, data)"
   ]
  },
  {
   "cell_type": "markdown",
   "id": "123db220",
   "metadata": {},
   "source": [
    "## ELM"
   ]
  },
  {
   "cell_type": "code",
   "execution_count": 23,
   "id": "463176b0",
   "metadata": {},
   "outputs": [],
   "source": [
    "data = DriftingFlow(1.5e4, 200)"
   ]
  },
  {
   "cell_type": "code",
   "execution_count": null,
   "id": "8bfa5237",
   "metadata": {},
   "outputs": [],
   "source": []
  }
 ],
 "metadata": {
  "kernelspec": {
   "display_name": "advanced_ml",
   "language": "python",
   "name": "advanced_ml"
  },
  "language_info": {
   "codemirror_mode": {
    "name": "ipython",
    "version": 3
   },
   "file_extension": ".py",
   "mimetype": "text/x-python",
   "name": "python",
   "nbconvert_exporter": "python",
   "pygments_lexer": "ipython3",
   "version": "3.10.9"
  }
 },
 "nbformat": 4,
 "nbformat_minor": 5
}
